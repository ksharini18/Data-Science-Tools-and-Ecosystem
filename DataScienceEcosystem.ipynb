{
 "cells": [
  {
   "cell_type": "markdown",
   "id": "c1465fe7-37bc-4a42-a649-13512d3dcab1",
   "metadata": {},
   "source": [
    "# Data Science Tools and Ecosystem\n"
   ]
  },
  {
   "cell_type": "markdown",
   "id": "ef50f986-eda4-4f51-91c3-3966fc73705b",
   "metadata": {},
   "source": [
    "In this notebook, Data Science Tools and Ecosystem are summarized.\n"
   ]
  },
  {
   "cell_type": "markdown",
   "id": "e4cb9c43-4756-4595-bfc2-ffa504947d11",
   "metadata": {},
   "source": [
    "**Objectives:**\n",
    "\n",
    "- List popular languages for Data Science  \n",
    "- Identify commonly used libraries in Data Science  \n",
    "- Create and format tables using Markdown  \n",
    "- Perform basic arithmetic operations using Python  \n",
    "- Share Jupyter Notebooks through GitHub  \n"
   ]
  },
  {
   "cell_type": "markdown",
   "id": "238c7eba-459c-4a3f-95e7-dcf57dae0b1a",
   "metadata": {},
   "source": [
    "Some of the popular languages that Data Scientists use are:\n",
    "\n",
    "1. Python  \n",
    "2. R  \n",
    "3. SQL  \n",
    "4. Scala  \n",
    "5. Java  \n",
    "6. C++  \n",
    "7. Julia  \n",
    "8. JavaScript  \n",
    "9. PHP  \n",
    "10. Go  \n",
    "11. Ruby  \n",
    "12. Visual Basic  \n"
   ]
  },
  {
   "cell_type": "markdown",
   "id": "6d19af1d-efac-4289-91e8-f8bea7b29f81",
   "metadata": {},
   "source": [
    "Some of the commonly used libraries used by Data Scientists include:\n",
    "\n",
    "1. Pandas  \n",
    "2. NumPy  \n",
    "3. Matplotlib  \n",
    "4. Seaborn  \n",
    "5. Scikit-learn  \n",
    "6. Keras  \n",
    "7. TensorFlow  \n",
    "8. PyTorch  \n",
    "9. Apache Spark  \n",
    "10. Vegas  \n",
    "11. Big DL  \n",
    "12. Ggplot2  \n"
   ]
  },
  {
   "cell_type": "markdown",
   "id": "4b3b99c2-c7ee-46a6-9bde-a3a7963655fc",
   "metadata": {},
   "source": [
    "| Data Science Tools       |\n",
    "|--------------------------|\n",
    "| Jupyter Notebook         |\n",
    "| RStudio                  |\n",
    "| Apache Zeppelin          |\n",
    "| Spyder                   |\n",
    "| KNIME                    |\n",
    "\n"
   ]
  },
  {
   "cell_type": "markdown",
   "id": "99d36817-87b6-4f04-91f9-256b9a085edf",
   "metadata": {},
   "source": [
    "### Below are a few examples of evaluating arithmetic expressions in Python.\n"
   ]
  },
  {
   "cell_type": "code",
   "execution_count": 1,
   "id": "ccaaa517-17cb-4a53-a68b-82644ba8f94c",
   "metadata": {},
   "outputs": [
    {
     "data": {
      "text/plain": [
       "17"
      ]
     },
     "execution_count": 1,
     "metadata": {},
     "output_type": "execute_result"
    }
   ],
   "source": [
    "# This a simple arithmetic expression to multiply then add integers\n",
    "(3*4)+5\n"
   ]
  },
  {
   "cell_type": "code",
   "execution_count": 3,
   "id": "b9202d17-1a5b-4fb4-8140-b64a036e5472",
   "metadata": {},
   "outputs": [
    {
     "data": {
      "text/plain": [
       "3.3333333333333335"
      ]
     },
     "execution_count": 3,
     "metadata": {},
     "output_type": "execute_result"
    }
   ],
   "source": [
    "# This will convert 200 minutes to hours by dividing by 60\n",
    "200 / 60\n"
   ]
  },
  {
   "cell_type": "markdown",
   "id": "a6be2421-0e87-40f7-b919-a47641116e2d",
   "metadata": {},
   "source": [
    "## Author\n",
    "\n",
    "Dravide Suyambu Raj J"
   ]
  },
  {
   "cell_type": "code",
   "execution_count": null,
   "id": "9837ac1c-e798-4e2b-8092-5fdfab3ecc64",
   "metadata": {},
   "outputs": [],
   "source": []
  }
 ],
 "metadata": {
  "kernelspec": {
   "display_name": "Python [conda env:base] *",
   "language": "python",
   "name": "conda-base-py"
  },
  "language_info": {
   "codemirror_mode": {
    "name": "ipython",
    "version": 3
   },
   "file_extension": ".py",
   "mimetype": "text/x-python",
   "name": "python",
   "nbconvert_exporter": "python",
   "pygments_lexer": "ipython3",
   "version": "3.12.7"
  }
 },
 "nbformat": 4,
 "nbformat_minor": 5
}
